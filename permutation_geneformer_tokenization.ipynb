{
 "cells": [
  {
   "cell_type": "code",
   "execution_count": 7,
   "id": "9f488187-0593-48d6-8ad3-7b5bdb0f607e",
   "metadata": {},
   "outputs": [],
   "source": [
    "import geneformer\n",
    "from geneformer import TranscriptomeTokenizer\n",
    "import numpy as np\n",
    "import pandas as pd\n",
    "import anndata as ad\n",
    "import scanpy as sc\n",
    "import loompy\n",
    "from collections import Counter"
   ]
  },
  {
   "cell_type": "code",
   "execution_count": 8,
   "id": "d5c2b851-cf1e-4685-8450-f989701709a9",
   "metadata": {},
   "outputs": [],
   "source": [
    "# Have to redo tokenization while permutating the data to see evaluate geneformer model\n",
    "# Tk will tokenize all loom files in a directory so make sure each loom file as its own directory\n",
    "data_path = \"/u/home/r/ramadas/geneformer_tokenized_data\"\n",
    "output_path = \"/u/home/r/ramadas/geneformer_tokenized_data/permuted\""
   ]
  },
  {
   "cell_type": "code",
   "execution_count": 9,
   "id": "8474b079-228f-478d-980d-c16c376111db",
   "metadata": {},
   "outputs": [
    {
     "name": "stdout",
     "output_type": "stream",
     "text": [
      "Original stimulation distribution: Counter({np.str_('act'): 24249, np.str_('rest'): 23477})\n",
      "First 10 original values: [np.str_('rest'), np.str_('act'), np.str_('rest'), np.str_('rest'), np.str_('rest'), np.str_('act'), np.str_('rest'), np.str_('rest'), np.str_('act'), np.str_('rest')]\n",
      "First 10 shuffled values: ['rest' 'rest' 'act' 'act' 'act' 'rest' 'rest' 'act' 'rest' 'act']\n",
      "Percentage of values in same position: 50.13%\n",
      "Updated permuted file successfully\n"
     ]
    }
   ],
   "source": [
    "import os\n",
    "import loompy\n",
    "import numpy as np\n",
    "from collections import Counter\n",
    "\n",
    "# Org file \n",
    "original_loom = \"/u/home/r/ramadas/geneformer_tokenized_data/labeled_t_cell_data.loom\"\n",
    "# Copy so we can permute it\n",
    "permuted_loom = \"/u/home/r/ramadas/geneformer_tokenized_data/labeled_t_cell_data_permuted.loom\"\n",
    "\n",
    "# Remove the file if it already exists\n",
    "if os.path.exists(permuted_loom):\n",
    "    os.remove(permuted_loom)\n",
    "    \n",
    "with loompy.new(permuted_loom) as ds_permute:\n",
    "    with loompy.connect(original_loom) as ds:\n",
    "        ds_permute.add_columns(ds.layers, col_attrs=ds.col_attrs, row_attrs=ds.row_attrs)\n",
    "\n",
    "        original_stim = list(ds.ca['stimulation'])\n",
    "        print(\"Original stimulation distribution:\", Counter(original_stim))\n",
    "\n",
    "        print(\"First 10 original values:\", original_stim[:10])\n",
    "        \n",
    "        # Create a copy and shuffle it\n",
    "        permuted_stim = np.array(original_stim, dtype=np.str_).copy()\n",
    "        np.random.shuffle(permuted_stim)  # Shuffles in-place\n",
    "\n",
    "        print(\"First 10 shuffled values:\", permuted_stim[:10])\n",
    "\n",
    "        same_position = np.mean(original_stim == permuted_stim) * 100\n",
    "        print(f\"Percentage of values in same position: {same_position:.2f}%\")\n",
    "        \n",
    "        # Replace the stimulation data in the new file\n",
    "        ds_permute.ca['stimulation'] = permuted_stim\n",
    "        print(\"Updated permuted file successfully\")\n",
    "\n",
    "\n"
   ]
  },
  {
   "cell_type": "code",
   "execution_count": 10,
   "id": "cdf23b27-422e-417e-9b2f-41833b54c0a8",
   "metadata": {
    "scrolled": true
   },
   "outputs": [
    {
     "name": "stdout",
     "output_type": "stream",
     "text": [
      "Tokenizing /u/home/r/ramadas/geneformer_tokenized_data/labeled_t_cell_data.loom\n"
     ]
    },
    {
     "name": "stderr",
     "output_type": "stream",
     "text": [
      "100% 94/94 [01:36<00:00,  1.02s/it]\n"
     ]
    },
    {
     "name": "stdout",
     "output_type": "stream",
     "text": [
      "/u/home/r/ramadas/geneformer_tokenized_data/labeled_t_cell_data__dedup.loom has no column attribute 'filter_pass'; tokenizing all cells.\n",
      "Tokenizing /u/home/r/ramadas/geneformer_tokenized_data/labeled_t_cell_data_permuted.loom\n"
     ]
    },
    {
     "name": "stderr",
     "output_type": "stream",
     "text": [
      "100% 94/94 [01:28<00:00,  1.06it/s]\n"
     ]
    },
    {
     "name": "stdout",
     "output_type": "stream",
     "text": [
      "/u/home/r/ramadas/geneformer_tokenized_data/labeled_t_cell_data_permuted__dedup.loom has no column attribute 'filter_pass'; tokenizing all cells.\n",
      "Creating dataset.\n"
     ]
    }
   ],
   "source": [
    "# Geneformer created new models so we have to specify \n",
    "tk = TranscriptomeTokenizer({'stimulation': 'stimulation'}, nproc=16, model_input_size = 2048)\n",
    "tk.tokenize_data(data_path, output_path, \"Q_data_permuted\", file_format=\"loom\")\n"
   ]
  },
  {
   "cell_type": "code",
   "execution_count": null,
   "id": "82fce04a-82eb-4695-a297-b9485d0d5b30",
   "metadata": {},
   "outputs": [],
   "source": []
  }
 ],
 "metadata": {
  "kernelspec": {
   "display_name": "test1_env",
   "language": "python",
   "name": "test1_env"
  },
  "language_info": {
   "codemirror_mode": {
    "name": "ipython",
    "version": 3
   },
   "file_extension": ".py",
   "mimetype": "text/x-python",
   "name": "python",
   "nbconvert_exporter": "python",
   "pygments_lexer": "ipython3",
   "version": "3.10.13"
  }
 },
 "nbformat": 4,
 "nbformat_minor": 5
}
